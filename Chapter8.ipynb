{
 "cells": [
  {
   "cell_type": "markdown",
   "metadata": {},
   "source": [
    "# Chapter 8: Kylov Methods in Linear Algebra.\n",
    "\n",
    "This chapter introduces the Kylov methods as a method of iteratively solving linear systems of differential equations, which is especially useful for large sparse matrices. For large sparse matrices, matrix - vector multiplication can take advantage of the sparse nature of the matrix to reduce the number of operations required.  The Kylov methods take advantage of this to iteratively solve the linear system of equations using only matrix-vector multiplication, as opposed to LU decomposition, which can result in non-sparse \"L\" and \"U\" matrices and require more operations.\n",
    "\n",
    "\n",
    "It is not my intention to review this chapter here, as I only did a quick read through. Perhaps on a future pass through the book I will come back and make more detailed notes and do the exercises.  \n"
   ]
  },
  {
   "cell_type": "markdown",
   "metadata": {},
   "source": []
  }
 ],
 "metadata": {
  "language_info": {
   "name": "python"
  }
 },
 "nbformat": 4,
 "nbformat_minor": 2
}
