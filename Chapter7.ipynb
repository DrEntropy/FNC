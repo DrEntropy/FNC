{
 "cells": [
  {
   "cell_type": "markdown",
   "metadata": {},
   "source": [
    "# Notes on Chapter 7: Matrix Analysis"
   ]
  },
  {
   "cell_type": "code",
   "execution_count": 1,
   "metadata": {},
   "outputs": [
    {
     "name": "stderr",
     "output_type": "stream",
     "text": [
      "┌ Info: verify download of index files...\n",
      "└ @ MatrixDepot C:\\Users\\rjljr\\.julia\\packages\\MatrixDepot\\lGEHe\\src\\MatrixDepot.jl:117\n",
      "┌ Info: reading database\n",
      "└ @ MatrixDepot C:\\Users\\rjljr\\.julia\\packages\\MatrixDepot\\lGEHe\\src\\download.jl:24\n"
     ]
    },
    {
     "name": "stderr",
     "output_type": "stream",
     "text": [
      "┌ Info: adding metadata...\n",
      "└ @ MatrixDepot C:\\Users\\rjljr\\.julia\\packages\\MatrixDepot\\lGEHe\\src\\download.jl:68\n"
     ]
    },
    {
     "name": "stderr",
     "output_type": "stream",
     "text": [
      "┌ Info: adding svd data...\n",
      "└ @ MatrixDepot C:\\Users\\rjljr\\.julia\\packages\\MatrixDepot\\lGEHe\\src\\download.jl:70\n",
      "┌ Info: writing database\n",
      "└ @ MatrixDepot C:\\Users\\rjljr\\.julia\\packages\\MatrixDepot\\lGEHe\\src\\download.jl:75\n"
     ]
    },
    {
     "name": "stderr",
     "output_type": "stream",
     "text": [
      "┌ Info: used remote sites are sparse.tamu.edu with MAT index and math.nist.gov with HTML index\n",
      "└ @ MatrixDepot C:\\Users\\rjljr\\.julia\\packages\\MatrixDepot\\lGEHe\\src\\MatrixDepot.jl:119\n"
     ]
    }
   ],
   "source": [
    "using FundamentalsNumericalComputation"
   ]
  },
  {
   "cell_type": "markdown",
   "metadata": {},
   "source": [
    "## 7.1  Intro\n",
    "\n",
    "This is section just covers the various uses of matrices:\n",
    "\n",
    "* Tables\n",
    "\n",
    "* Graphs (adjacency matrices)\n",
    "\n",
    "* Images\n",
    "\n",
    "\n",
    "## 7.2 Eigenvalue Decomposition\n",
    "\n",
    "This is pretty standard treatment.  One new concept is conditioning of eigenvalues:\n",
    "\n",
    " **Bauer–Fike theorem**.\n",
    "\n",
    "Let $\\mathbf{A}\\in\\mathbb{C}^{n\\times n}$ be diagonalizable, $\\mathbf{A}=\\mathbf{V}\\mathbf{D}\\mathbf{V}^{-1}$, with eigenvalues $\\lambda_1,\\ldots,\\lambda_n$. If $\\mu$ is an eigenvalue of $\\mathbf{A}+\\mathbf{E}$ for a complex matrix $\\mathbf{E}$, then\n",
    "\n",
    "$$\n",
    "\\min_{j=1,\\ldots,n} |\\mu - \\lambda_j| \\le \\kappa(\\mathbf{V}) \\, \\| \\mathbf{E} \\|\\,,\n",
    "$$\n",
    "\n",
    "where $\\|\\cdot\\|$ and $\\kappa$ are in the 2-norm.\n"
   ]
  },
  {
   "cell_type": "code",
   "execution_count": 5,
   "metadata": {},
   "outputs": [
    {
     "data": {
      "text/plain": [
       "3-element Vector{Float64}:\n",
       " 0.585786437626905\n",
       " 1.9999999999999998\n",
       " 3.414213562373095"
      ]
     },
     "metadata": {},
     "output_type": "display_data"
    }
   ],
   "source": [
    "## Eigenvalues in Julia\n",
    "\n",
    "A = [2  -1  0; -1  2  -1; 0  -1  2]\n",
    "ev = eigvals(A)"
   ]
  },
  {
   "cell_type": "code",
   "execution_count": 19,
   "metadata": {},
   "outputs": [
    {
     "data": {
      "text/plain": [
       "false"
      ]
     },
     "metadata": {},
     "output_type": "display_data"
    }
   ],
   "source": [
    "!true"
   ]
  },
  {
   "cell_type": "code",
   "execution_count": 15,
   "metadata": {},
   "outputs": [
    {
     "data": {
      "text/plain": [
       "3-element Vector{Bool}:\n",
       " 1\n",
       " 1\n",
       " 1"
      ]
     },
     "metadata": {},
     "output_type": "display_data"
    }
   ],
   "source": [
    "[rank(A - evx*I) < rank(A) for evx in ev]"
   ]
  },
  {
   "cell_type": "markdown",
   "metadata": {},
   "source": [
    "## 7.3 Singular Value Decomposition\n"
   ]
  },
  {
   "cell_type": "markdown",
   "metadata": {},
   "source": [
    "The Singular value decomposition (SVD) of an $m \\times n$ matrix $\\mathbf{A}$ is a factorization of the form:\n",
    "\n",
    "$$\n",
    "\\mathbf{A} = \\mathbf{U}\\mathbf{S}\\mathbf{V}^*\n",
    "$$\n",
    "\n",
    "where $U \\in \\mathbb{C}^{m \\times m}$ and $V \\in \\mathbb{C}^{n \\times n}$ are unitary matrices and $S \\in \\mathbb{R}^{m \\times n}$ is a rectangular diagonal matrix with non-negative real numbers on the diagonal.\n",
    "\n",
    " If $\\mathbf{A}$ is real, $U$ and $V$ are real orthogonal matrices. The diagonal entries $\\sigma_1, ... , \\sigma_n$ of $S$ are known as the singular values of $\\mathbf{A}$.  \n",
    "\n",
    " The singular values are typically ordered from largest to smallest.\n",
    "\n",
    " ### Theorem: \n",
    "\n",
    " Every matrix has a singular value decomposition. The signular values are unique, but the singular vectors are not. If $\\mathbf{A}$ is real, $U$ and $V$ are real orthogonal matrices."
   ]
  },
  {
   "cell_type": "markdown",
   "metadata": {},
   "source": [
    "### Connection to the eigenvalue problem:\n",
    "\n",
    "The non-zero eigenvalues of $\\mathbf{A}^* \\mathbf{A}$ are the squares of the singular values of $\\mathbf{A}$.\n",
    "\n",
    "The text also says that 'except for some unimportant technicalities', the eigenvectors of $\\mathbf{A}^* \\mathbf{A}$ , appropriately ordered and normalized, are the same as the right singular vectors of $\\mathbf{A}$.   The left vectors can then be found from  $\\mathbf{A} \\mathbf{v}_i = \\sigma_i \\mathbf{u}_i$.\n",
    "\n",
    "\n",
    "Another close connection comes via the $(m+n)\\times(m+n)$ matrix:\n",
    "\n",
    "$$\n",
    "\\mathbf{C} = \\begin{bmatrix} 0 & \\mathbf{A}^* \\\\ \\mathbf{A} & 0 \\end{bmatrix}\n",
    "\n",
    "$$\n",
    "\n",
    "The eigenvalues of $\\mathbf{C}$ come in pairs $\\pm \\sigma_i$ and the eigenvectors 'reveal' a left and right singular vector.  This is implicitly exploited by software to compute the SVD"
   ]
  },
  {
   "cell_type": "markdown",
   "metadata": {},
   "source": [
    "### Exercise  7.3.11\n",
    "\n",
    "Suppose $\\mathbf{A}\\in\\mathbb{R}^{n \\times n}$, and define $\\mathbf{C}$ as in above. \n",
    "\n",
    "**(a)** Suppose that $\\mathbf{v}=\\begin{bmatrix} \\mathbf{x} \\\\ \\mathbf{y} \\end{bmatrix}$, and write the block equation $\\mathbf{C}\\mathbf{v} = \\lambda \\mathbf{v}$ as two individual equations involving both $\\mathbf{x}$ and $\\mathbf{y}$.\n",
    "\n",
    "**(b)** By applying some substitutions, rewrite the equations from part (a) as one in which $\\mathbf{x}$ was eliminated, and another in which $\\mathbf{y}$ was eliminated.\n",
    "\n",
    "**(c)** Substitute the SVD $\\mathbf{A}=\\mathbf{U}\\mathbf{S}\\mathbf{V}^T$ and explain why $\\lambda^2=\\sigma_k^2$ for some singular value $\\sigma_k$. \n",
    "\n",
    "**(d)** As a more advanced variation, modify the argument to show that $\\lambda=0$ is another possibility if $\\mathbf{A}$ is not square."
   ]
  }
 ],
 "metadata": {
  "kernelspec": {
   "display_name": "Julia 1.9.2",
   "language": "julia",
   "name": "julia-1.9"
  },
  "language_info": {
   "file_extension": ".jl",
   "mimetype": "application/julia",
   "name": "julia",
   "version": "1.9.2"
  }
 },
 "nbformat": 4,
 "nbformat_minor": 2
}
