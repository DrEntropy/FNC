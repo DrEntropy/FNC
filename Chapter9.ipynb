{
 "cells": [
  {
   "cell_type": "markdown",
   "metadata": {},
   "source": [
    "# Chapter 9 - Global Function Approximation\n"
   ]
  },
  {
   "cell_type": "code",
   "execution_count": 3,
   "metadata": {},
   "outputs": [
    {
     "name": "stderr",
     "output_type": "stream",
     "text": [
      "┌ Info: verify download of index files...\n",
      "└ @ MatrixDepot C:\\Users\\rjljr\\.julia\\packages\\MatrixDepot\\5VE9J\\src\\MatrixDepot.jl:117\n",
      "┌ Info: reading database\n",
      "└ @ MatrixDepot C:\\Users\\rjljr\\.julia\\packages\\MatrixDepot\\5VE9J\\src\\download.jl:24\n"
     ]
    },
    {
     "name": "stderr",
     "output_type": "stream",
     "text": [
      "┌ Info: adding metadata...\n",
      "└ @ MatrixDepot C:\\Users\\rjljr\\.julia\\packages\\MatrixDepot\\5VE9J\\src\\download.jl:68\n"
     ]
    },
    {
     "name": "stderr",
     "output_type": "stream",
     "text": [
      "┌ Info: adding svd data...\n",
      "└ @ MatrixDepot C:\\Users\\rjljr\\.julia\\packages\\MatrixDepot\\5VE9J\\src\\download.jl:70\n",
      "┌ Info: writing database\n",
      "└ @ MatrixDepot C:\\Users\\rjljr\\.julia\\packages\\MatrixDepot\\5VE9J\\src\\download.jl:75\n"
     ]
    },
    {
     "name": "stderr",
     "output_type": "stream",
     "text": [
      "┌ Info: used remote sites are sparse.tamu.edu with MAT index and math.nist.gov with HTML index\n",
      "└ @ MatrixDepot C:\\Users\\rjljr\\.julia\\packages\\MatrixDepot\\5VE9J\\src\\MatrixDepot.jl:119\n"
     ]
    }
   ],
   "source": [
    "using FundamentalsNumericalComputation"
   ]
  },
  {
   "cell_type": "markdown",
   "metadata": {},
   "source": [
    "\n",
    "## Overview\n",
    "\n",
    "* Instead of piecewise polynomial approximations as in Chapter 5, this chapter considers approximations defined over the whole interval, i.e. globally. \n",
    "\n",
    "* The chapter then considers interpolation beyond polynomials \n",
    "\n",
    "* The chapter concludes with the application of global methods to numerical integration."
   ]
  },
  {
   "cell_type": "markdown",
   "metadata": {},
   "source": [
    "## Polynomial interpolation\n",
    "\n",
    "\n",
    "### Introdution\n",
    "\n",
    "* Recall we have seem polynomial interpolation in Chapter 5, briefly:\n",
    "\n",
    "   *  $n+1$ data points $(t_0,y_0),\\ldots,(t_n,y_n)$\n",
    "\n",
    "   * Find a polynomial $p(t)$ of degree $n$ such that $p(t_i)=y_i$ for $i=0,\\ldots,n$ \n",
    "\n",
    "* Theorem:\n",
    "\n",
    "    If the nodes $t_0,\\dots,t_n$ are all distinct, there exists a unique polynomial $p$ of degree at most $n$ that satisfies $p(t_k)=y_k$ for all $k=0,\\dots,n$.\n",
    "\n",
    "    - Proof of existence: see below, we will construct this polynomial\n",
    "    - Proof of uniqueness:  consider two interpolating polynomials, $p$ and $q$.  $p(t)-q(t)$, which has degree at most $n$ and $n+1$ roots must be the zero polynomial by the fundamental theorem of algebra.\n",
    "\n",
    "\n",
    "### Lagrange Formula \n",
    "\n",
    "In 5.1 we used the Vandermonde matrix to solve for the coefficients of the interpolating polynomial. In 5.2 we discussed the convenience of the *cardinal* basis, which were 'hat' functions in 5.2.  For global interpolation, we can find a cardinal basis of polynomials, the Lagrange polynomial basis.\n",
    "\n",
    "$$\n",
    "\\ell_{k}(t_j) = \\begin{cases}\n",
    "1 &\\text{if $j=k$,}\\\\\n",
    "0 & \\text{otherwise.}\n",
    "\\end{cases}\n",
    "$$\n",
    "\n",
    "These can be easily constructed as follows (see text for derivation, based on the fundamental theorem of algebra):\n",
    "\n",
    "$$\n",
    "\\ell_{k}(x) = \\prod_{j=0,j\\neq k}^n \\frac{x-t_j}{t_k-t_j}\n",
    "$$\n",
    "\n",
    "With this basis we can write the interpolating polynomial (given points $(t_k,y_k)$ as:\n",
    "\n",
    "$$\n",
    "p(x) = \\sum_{k=0}^n y_k \\ell_k(x)\n",
    "$$\n",
    "\n",
    "This completes the proof of existence of the interpolating polynomial, by construction.\n",
    "\n",
    "### Error Formula:\n",
    "\n",
    "The error indicator ($\\Phi(x)$) function is given by:\n",
    "\n",
    "$$\n",
    "\\Phi(x) = \\prod_{i=0}^n (x-t_i).\n",
    "$$\n",
    "\n",
    "The text shows that the interpolation error is given by:\n",
    "\n",
    "Let $f$ be a function that is $n+1$ times differentiable on $[a,b]$, and let $p$ be the polynomial of degree at most $n$ that interpolates $f$ at the $n+1$ distinct points $t_0,\\dots,t_n$ in $[a,b]$.  Then for each $x$ in $[a,b]$ there exists a number $\\xi$ between $a$ and $b$ such that:\n",
    "\n",
    "$$\n",
    "f(x)-p(x) = \\frac{f^{(n+1)}(\\xi)}{(n+1)!}\\Phi(x)\n",
    "$$\n",
    "\n",
    "This can be used as a bound on the error by finding the maximum of the $n+1$ derivative of $f$ on $[a,b]$.\n",
    "\n",
    "#### Corollary:\n",
    "\n",
    "If $t_i = ih$ for constant step size $h$, and the rest of the premises of the theorem hold, then:\n",
    "\n",
    "$$\n",
    "|f(x)-p(x)| \\leq C f^{(n+1)}(\\xi) h^{n+1}\n",
    "$$\n"
   ]
  },
  {
   "cell_type": "markdown",
   "metadata": {},
   "source": [
    "### Exercise 9.1.7\n",
    "\n",
    "Consider the nodes $t_0=0$, $t_1=1$, $t_2=\\beta$, where $\\beta>1$.\n",
    "\n",
    "**(a)** Write out the Lagrange cardinal polynomials $\\ell_0$, $\\ell_1$, and $\\ell_2$.      \n",
    "    \n",
    "**(b)** Set $x=1/2$ in the part (a) results, and suppose $y_1 = y_2$. As $\\beta\\to 1$ from above, why should we expect subtractive cancellation?\n"
   ]
  },
  {
   "cell_type": "markdown",
   "metadata": {},
   "source": [
    "Answer: \n",
    "\n",
    "**(a)** \n",
    "using:  $\\ell_{k}(x) = \\prod_{j=0,j\\neq k}^n \\frac{x-t_j}{t_k-t_j}$ \n",
    "\n",
    "\n",
    "$\\ell_0(x) = \\frac{(x-1)(x-\\beta)}{t \\beta}$\n",
    "\n",
    "$\\ell_1(x) = \\frac{x (x-\\beta)}{(1-\\beta)}$\n",
    "\n",
    "$\\ell_2(x) = \\frac{x (x-1)}{\\beta(\\beta-1)}$\n",
    "\n",
    "**(b)**\n",
    "\n",
    "Setting $x=1/2$ in the part (a) results, and suppose $y_1 = y_2$:\n",
    "\n",
    "Looking at the interpolation polynomial:\n",
    "\n",
    "$$\n",
    "\\begin{align}\n",
    "p(1/2) &= y_0 \\ell_0(1/2) + y_1 \\ell_1(1/2) + y_2 \\ell_2(1/2) \\\\\n",
    "&= y_0 \\frac{(1/2-1)(1/2-\\beta)}{t \\beta} + y_1 \\frac{1/2 (1/2-\\beta)}{(1-\\beta)} + y_1 \\frac{1/2 (1/2-1)}{\\beta(\\beta-1)} \\\\\n",
    "&= y_0 \\frac{(1/2-1)(1/2-\\beta)}{t \\beta} + \\frac{y_1}{2} (\\frac{ (1/2-\\beta)}{(1-\\beta)} +  \\frac{(1/2-1)}{\\beta(\\beta-1)} )\\\\\n",
    "&= y_0 \\frac{(1/2-1)(1/2-\\beta)}{t \\beta} + \\frac{y_1}{2 (1-\\beta)} ((1/2-\\beta) - \\frac{(1/2-1)}{\\beta} )\\\\\n",
    "\\end{align}\n",
    "$$\n"
   ]
  },
  {
   "cell_type": "markdown",
   "metadata": {},
   "source": [
    "We are to consider $\\beta \\to 1$ from above.  The $y_1$ term will be the ratio of two small quantities, and we could have subtractive cancellation, and loose accuracy.  "
   ]
  },
  {
   "cell_type": "code",
   "execution_count": 22,
   "metadata": {},
   "outputs": [
    {
     "data": {
      "text/plain": [
       "1.5"
      ]
     },
     "metadata": {},
     "output_type": "display_data"
    }
   ],
   "source": [
    "f(β) = (1/2 + 1/(2*β) -  β)/(1-β)\n",
    "f(1 + eps(Float64))"
   ]
  },
  {
   "cell_type": "code",
   "execution_count": 23,
   "metadata": {},
   "outputs": [
    {
     "data": {
      "text/plain": [
       "NaN"
      ]
     },
     "metadata": {},
     "output_type": "display_data"
    }
   ],
   "source": [
    "f(1)"
   ]
  },
  {
   "cell_type": "markdown",
   "metadata": {},
   "source": [
    "## The barycentric formula.  \n",
    "\n",
    "The Lagrange formula is numerically unstable when the nodes are close together.  The barycentric formula is a numerically stable alternative, and also more efficient, since it avoids the need to compute a product of $n$ terms for each evaluation of the interpolating polynomial at a new $x$.\n",
    "\n",
    "The barycentric formula is:\n",
    "\n",
    "$$\n",
    "p(x) = \\frac{\\sum_{k=0}^n \\frac{w_k y_k}{x-t_k}}{\\sum_{k=0}^n \\frac{w_k}{x-t_k}}\n",
    "$$\n",
    "\n",
    "where the weights $w_k$ are given by:\n",
    "$$\n",
    "w_k = \\frac{1}{\\prod_{j=0,j\\neq k}^n (t_k-t_j)} = \\frac{1}{\\Phi'(x_k)}\\text{ for } k=0,\\dots,n\n",
    "$$\n",
    "\n",
    "(See exercise 9.2.6 for the last equality) \n",
    "\n",
    "The text shows how this can be implemented in an iterative fashion, and states without proof that the barycentric formula is numerically stable.  THe idea is that  the *same* cancellation occurs in the numerator and denominator, so the error is not amplified."
   ]
  },
  {
   "cell_type": "code",
   "execution_count": 24,
   "metadata": {},
   "outputs": [
    {
     "data": {
      "text/plain": [
       "polyinterp"
      ]
     },
     "metadata": {},
     "output_type": "display_data"
    }
   ],
   "source": [
    "\"\"\"\n",
    "    polyinterp(t,y)\n",
    "\n",
    "Construct a callable polynomial interpolant through the points in\n",
    "vectors `t`,`y` using the barycentric interpolation formula.\n",
    "\"\"\"\n",
    "function polyinterp(t,y)\n",
    "    n = length(t)-1\n",
    "    C = (t[n+1]-t[1]) / 4           # scaling factor to ensure stability\n",
    "    tc = t/C\n",
    "\n",
    "    # Adding one node at a time, compute inverses of the weights.\n",
    "    ω = ones(n+1)\n",
    "    for m in 0:n-1\n",
    "        d = tc[1:m+1] .- tc[m+2]    # vector of node differences\n",
    "        @. ω[1:m+1] *= d            # update previous\n",
    "        ω[m+2] = prod( -d )         # compute the new one\n",
    "    end\n",
    "    w = 1 ./ ω                      # go from inverses to weights\n",
    "\n",
    "    # This function evaluates the interpolant at given x.\n",
    "    p = function (x)\n",
    "        terms = @. w / (x - t)\n",
    "        if any(isinf.(terms))     # there was division by zero\n",
    "            # return the node's data value\n",
    "            idx = findfirst(x.==t)\n",
    "            f = y[idx]\n",
    "        else\n",
    "            f = sum(y.*terms) / sum(terms)\n",
    "        end\n",
    "    end\n",
    "    return p\n",
    "end"
   ]
  },
  {
   "cell_type": "markdown",
   "metadata": {},
   "source": [
    "### Exercise 9.2.4:\n",
    "In each case, use `polyinterp` to interpolate the given function using $n+1$ evenly spaced nodes in the given interval. Plot each interpolant together with the exact function.\n",
    "\n",
    "**(a)** $f(x) = \\ln (x), \\quad n = 2,3,4, \\quad x\\in [1,10]$\n",
    "\n",
    "**(b)** $f(x) = \\tanh (x), \\quad n = 2,3,4, \\quad x \\in [0-3,2]$\n",
    "\n",
    "**(c)** $f(x) = \\cosh (x), \\quad n = 2,3,4, \\quad x \\in [-1,3]$\n",
    "\n",
    "**(d)** $f(x) = |x|, \\quad n = 3,5,7, \\quad x \\in [-2,1]$\n"
   ]
  },
  {
   "cell_type": "markdown",
   "metadata": {},
   "source": [
    "## Stability of polynomial interpolation\n",
    "\n",
    "* Now that we have a numerically stable algorithm, we can consider the stability of polynomial interpolation itself."
   ]
  },
  {
   "cell_type": "code",
   "execution_count": 27,
   "metadata": {},
   "outputs": [
    {
     "ename": "UndefVarError",
     "evalue": "UndefVarError: `plot` not defined",
     "output_type": "error",
     "traceback": [
      "UndefVarError: `plot` not defined\n",
      "\n",
      "Stacktrace:\n",
      " [1] top-level scope\n",
      "   @ c:\\Users\\rjljr\\devel\\FNC\\Chapter9.ipynb:3"
     ]
    }
   ],
   "source": [
    "g = x -> sin(exp(2*x));\n",
    "\n",
    "plot(f,0,1,label=\"function\",legend=:bottomleft)\n",
    "t = (0:6)/6\n",
    "y = f.(t)\n",
    "scatter!(t,y,label=\"nodes\")\n",
    "\n",
    "p = FNC.polyinterp(t,y)\n",
    "plot!(p,0,1,label=\"interpolant\",title=\"Equispaced interpolant, n=6\")"
   ]
  },
  {
   "cell_type": "markdown",
   "metadata": {},
   "source": [
    "## Code from github "
   ]
  },
  {
   "cell_type": "code",
   "execution_count": null,
   "metadata": {},
   "outputs": [],
   "source": [
    "\n",
    "\n",
    "\"\"\"\n",
    "    triginterp(t,y)\n",
    "\n",
    "Construct the trigonometric interpolant for the points defined by \n",
    "vectors `t` and `y`.\n",
    "\"\"\"\n",
    "function triginterp(t,y)\n",
    "    N = length(t)\n",
    "\n",
    "    function τ(x)\n",
    "        if x==0\n",
    "            return 1.0\n",
    "        else\n",
    "            denom = isodd(N) ? N*sin(π*x/2) : N*tan(π*x/2)\n",
    "            return sin(N*π*x/2)/denom\n",
    "        end\n",
    "    end\n",
    "\n",
    "    return function (x)\n",
    "        sum( y[k]*τ(x-t[k]) for k in eachindex(y) )\n",
    "    end\n",
    "end\n",
    "\n",
    "\"\"\"\n",
    "    ccint(f,n)\n",
    "\n",
    "Perform Clenshaw-Curtis integration for the function `f` on `n`+1\n",
    "nodes in [-1,1]. Returns the integral estimate and a vector of the \n",
    "nodes used. Note: `n` must be even.\n",
    "\"\"\"\n",
    "function ccint(f,n)\n",
    "    @assert iseven(n) \"Value of `n` must be an even integer.\"\n",
    "    # Find Chebyshev extreme nodes.\n",
    "    θ = [ i*π/n for i in 0:n ]\n",
    "    x = -cos.(θ)\n",
    "\n",
    "    # Compute the C-C weights.\n",
    "    c = similar(θ)\n",
    "    c[[1,n+1]] .= 1/(n^2-1)\n",
    "    s = sum( cos.(2k*θ[2:n])/(4k^2-1) for k in 1:n/2-1 )\n",
    "    v = @. 1 - 2s - cos(n*θ[2:n])/(n^2-1)\n",
    "    c[2:n] = 2v/n\n",
    "\n",
    "    # Evaluate integrand and integral.\n",
    "    I = dot(c,f.(x))   # vector inner product\n",
    "    return I,x\n",
    "end\n",
    "\n",
    "\"\"\"\n",
    "    glint(f,n)\n",
    "\n",
    "Perform Gauss-Legendre integration for the function `f` on `n` nodes\n",
    "in (-1,1). Returns the integral estimate and a vector of the nodes used.\n",
    "\"\"\"\n",
    "function glint(f,n)\n",
    "    # Nodes and weights are found via a tridiagonal eigenvalue problem.\n",
    "    β = @. 0.5/sqrt(1-(2*(1:n-1))^(-2))\n",
    "    T = diagm(-1=>β,1=>β)\n",
    "    λ,V = eigen(T)\n",
    "    p = sortperm(λ)\n",
    "    x = λ[p]               # nodes\n",
    "    c = @. 2V[1,p]^2       # weights\n",
    "\n",
    "    # Evaluate the integrand and compute the integral.\n",
    "    I = dot(c,f.(x))      # vector inner product\n",
    "    return I,x\n",
    "end\n",
    "\n",
    "\"\"\"\n",
    "    intinf(f,tol)\n",
    "\n",
    "Perform adaptive doubly-exponential integration of function `f` \n",
    "over (-Inf,Inf), with error tolerance `tol`. Returns the integral \n",
    "estimate and a vector of the nodes used.\n",
    "\"\"\"\n",
    "function intinf(f,tol)   \n",
    "    x = t -> sinh(sinh(t))\n",
    "    dx_dt = t -> cosh(t)*cosh(sinh(t))\n",
    "    g = t -> f(x(t))*dx_dt(t)\n",
    "\n",
    "    # Find where to truncate the integration interval.\n",
    "    M = 3\n",
    "    while (abs(g(-M)) > tol/100) || (abs(g(M)) > tol/100)\n",
    "        M += 0.5\n",
    "        if isinf(x(M)) \n",
    "            @warn \"Function may not decay fast enough.\"\n",
    "            M -= 0.5\n",
    "            break\n",
    "        end\n",
    "    end\n",
    "\n",
    "    I,t = intadapt(g,-M,M,tol)\n",
    "\treturn I,x.(t)\n",
    "end\n",
    "\n",
    "\"\"\"\n",
    "    intsing(f,tol)\n",
    "\n",
    "Adaptively integrate function `f` over (0,1), where `f` may be \n",
    "singular at zero, with error tolerance `tol`. Returns the\n",
    "integral estimate and a vector of the nodes used.\n",
    "\"\"\"\n",
    "function intsing(f,tol)\n",
    "    x = t -> 2/(1+exp(2sinh(t)))\n",
    "\tdx_dt = t -> cosh(t)/cosh(sinh(t))^2\n",
    "\tg = t -> f(x(t))*dx_dt(t)\n",
    "\n",
    "    # Find where to truncate the integration interval.\n",
    "    M = 3\n",
    "    while abs(g(M)) > tol/100\n",
    "        M += 0.5\n",
    "        if iszero(x(M)) \n",
    "            @warn \"Function may grow too rapidly.\"\n",
    "            M -= 0.5\n",
    "            break\n",
    "        end\n",
    "    end\n",
    "\n",
    "    I,t = intadapt(g,0,M,tol)\n",
    "\treturn I,x.(t)\n",
    "end"
   ]
  }
 ],
 "metadata": {
  "kernelspec": {
   "display_name": "Julia 1.9.2",
   "language": "julia",
   "name": "julia-1.9"
  },
  "language_info": {
   "file_extension": ".jl",
   "mimetype": "application/julia",
   "name": "julia",
   "version": "1.9.2"
  }
 },
 "nbformat": 4,
 "nbformat_minor": 2
}
