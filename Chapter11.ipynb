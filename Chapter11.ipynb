{
 "cells": [
  {
   "cell_type": "markdown",
   "metadata": {},
   "source": [
    "## Chapter 11 - Diffusion Equations\n",
    "\n",
    "Again, just a quick summary.  This chapter covered numerical techniques for diffusion type equations (fiirst order in time, second order in space) including the heat equation and the Black Scholes equation.  The primary technique demonstrated was the \"method of lines\" which is a technique for converting a PDE into a system of ODEs.  The ODEs can then be solved using the techniques from the previous chapters. \n",
    "\n",
    "THere was also a discussion of stability issues of the resulting system of ODE's, expressed in terms of the eigenvector of the resulting matrix equation.  See text for details, but basically different solvers have different regions of stability in terms of $\\eta = \\lambda \\tau$ where $\\lambda$ is an eigenvalue and $\\tau$ is the time step.  Problems where stability requires a small time step (not for accuracy but for stability) are called \"stiff\" problems. \n"
   ]
  }
 ],
 "metadata": {
  "language_info": {
   "name": "python"
  }
 },
 "nbformat": 4,
 "nbformat_minor": 2
}
