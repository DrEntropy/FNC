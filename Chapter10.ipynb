{
 "cells": [
  {
   "cell_type": "markdown",
   "metadata": {},
   "source": [
    "# Chapter 10 Boundary Value Problems\n",
    "\n",
    "This chapter covered numerical methods for 1D boundary value problems.  The following methods were covered by the book:\n",
    "\n",
    "* Shooting method\n",
    "\n",
    "* Differential Matrices (Finite Difference Method)\n",
    "    - For linear problems, this becomes a matrix equation  \n",
    "    - For nonlinear problems, this becomes a nonlinear system of equations that can be solved by root finding methods\n",
    "\n",
    "* Galerkin Method - I skipped this section."
   ]
  },
  {
   "cell_type": "markdown",
   "metadata": {},
   "source": []
  }
 ],
 "metadata": {
  "language_info": {
   "name": "python"
  }
 },
 "nbformat": 4,
 "nbformat_minor": 2
}
